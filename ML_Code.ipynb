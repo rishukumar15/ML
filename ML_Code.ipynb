{
 "cells": [
  {
   "cell_type": "code",
   "execution_count": 1,
   "id": "978bc0ae",
   "metadata": {},
   "outputs": [],
   "source": [
    "# Backprop on the Seeds Dataset\n",
    "from random import seed\n",
    "from random import randrange\n",
    "from random import random\n",
    "from csv import reader\n",
    "from math import exp\n",
    "import numpy as np\n"
   ]
  },
  {
   "cell_type": "code",
   "execution_count": 2,
   "id": "5f51e803",
   "metadata": {},
   "outputs": [],
   "source": [
    "# Load a CSV file\n",
    "def load_csv(filename):\n",
    "    dataset = list()\n",
    "    with open(filename, 'r') as file:\n",
    "        csv_reader = reader(file)\n",
    "        fields = next(csv_reader)\n",
    "\n",
    "        # extracting each data row one by one\n",
    "        for row in csv_reader:\n",
    "            if row[1] == 'M':\n",
    "                row[1] = '1'\n",
    "            else:\n",
    "                row[1] = '0'\n",
    "\n",
    "            if row[8] == 'Y':\n",
    "                row[8] = '1'\n",
    "            else:\n",
    "                row[8] = '0'\n",
    "\n",
    "            input_row = []\n",
    "\n",
    "            input_row.append(row[0])\n",
    "            input_row.append(row[1])\n",
    "            input_row.append(row[3])\n",
    "            input_row.append(row[4])\n",
    "            input_row.append(row[5])\n",
    "            input_row.append(row[7])\n",
    "            input_row.append(row[8])\n",
    "            input_row.append(row[9])\n",
    "            input_row.append(row[11])\n",
    "\n",
    "            dataset.append(input_row)\n",
    "\n",
    "    return dataset"
   ]
  },
  {
   "cell_type": "code",
   "execution_count": 3,
   "id": "4a35cbd5",
   "metadata": {},
   "outputs": [],
   "source": [
    "# Convert string column to float\n",
    "def str_column_to_float(dataset, column):\n",
    "    for row in dataset:\n",
    "        row[column] = float(row[column].strip())\n",
    "\n",
    "        \n",
    "        \n",
    "# Convert string column to integer\n",
    "def str_column_to_int(dataset, column):\n",
    "    class_values = [row[column] for row in dataset]\n",
    "    unique = set(class_values)\n",
    "    lookup = dict()\n",
    "    for i, value in enumerate(unique):\n",
    "        lookup[value] = i\n",
    "    for row in dataset:\n",
    "        row[column] = lookup[row[column]]\n",
    "    return lookup"
   ]
  },
  {
   "cell_type": "code",
   "execution_count": 4,
   "id": "434e1b56",
   "metadata": {},
   "outputs": [],
   "source": [
    "# Find the min and max values for each column\n",
    "def dataset_minmax(dataset):\n",
    "    minmax = list()\n",
    "    stats = [[min(column), max(column)] for column in zip(*dataset)]\n",
    "    return stats\n",
    "\n",
    "\n",
    "\n",
    "# Rescale dataset columns to the range 0-1\n",
    "def normalize_dataset(dataset, minmax):\n",
    "    for row in dataset:\n",
    "        for i in range(len(row)-1):\n",
    "            row[i] = (row[i] - minmax[i][0]) / (minmax[i][1] - minmax[i][0])\n"
   ]
  },
  {
   "cell_type": "code",
   "execution_count": 5,
   "id": "6e36f948",
   "metadata": {},
   "outputs": [],
   "source": [
    "def activation(number):\n",
    "    return 1.0 / (1.0 + exp(-number))"
   ]
  },
  {
   "cell_type": "code",
   "execution_count": 6,
   "id": "f55a2a18",
   "metadata": {},
   "outputs": [],
   "source": [
    "def initialise_network(n_inputs, n_hidden_layer, n_hidden, n_output):\n",
    "    network = list()\n",
    "    inputs = n_inputs\n",
    "    for i in range(n_hidden_layer):\n",
    "        hidden_layer = np.random.rand(inputs, n_hidden)\n",
    "        hidden_layer = np.multiply(0.01, hidden_layer)\n",
    "        network.append(hidden_layer)\n",
    "        bias_hidden = np.random.rand(1, n_hidden)\n",
    "        bias_hidden = np.multiply(0.01, bias_hidden)\n",
    "        network.append(bias_hidden)\n",
    "        inputs = n_hidden\n",
    "    output_layer = np.random.rand(n_hidden, n_output)\n",
    "    output_layer = np.multiply(0.01, output_layer)\n",
    "    network.append(output_layer)\n",
    "    bias_output = np.random.rand(1, n_output)\n",
    "    bias_output = np.multiply(0.01, bias_output)\n",
    "    network.append(bias_output)\n",
    "    return network"
   ]
  },
  {
   "cell_type": "code",
   "execution_count": 7,
   "id": "c9489b31",
   "metadata": {},
   "outputs": [],
   "source": [
    "def forward_propogation(network, row, output):\n",
    "    inputs = row\n",
    "    i = 0\n",
    "    while i < len(network):\n",
    "        inputs = np.array(inputs)\n",
    "        weights = network[i]\n",
    "        res = np.dot(inputs, weights)\n",
    "        i = i + 1\n",
    "        bias = network[i]\n",
    "        res = np.add(res, bias)\n",
    "        new_input = list()\n",
    "        for x in np.nditer(res):\n",
    "            ans = activation(x)\n",
    "            new_input.append(ans)\n",
    "        inputs = new_input\n",
    "        output.append(inputs)\n",
    "        i = i + 1\n",
    "    return inputs"
   ]
  },
  {
   "cell_type": "code",
   "execution_count": 8,
   "id": "2fbf6f66",
   "metadata": {},
   "outputs": [],
   "source": [
    "def sigmoid_derivative(y):\n",
    "    return y*(1-y)\n",
    "\n",
    "\n",
    "\n",
    "def backward_propogation(network, output, expected):\n",
    "    expected = np.array(expected)\n",
    "    delta_list = list()\n",
    "    for i in reversed(range(len(output))):\n",
    "        our_output = np.array(output[i])\n",
    "        if i == len(output)-1:\n",
    "            errors = np.subtract(expected, our_output)\n",
    "            j = 2*i\n",
    "        else:\n",
    "            weights = network[j]\n",
    "            delta = delta.T\n",
    "            errors = np.dot(weights, delta)\n",
    "            errors = errors.T\n",
    "            j = j-2\n",
    "\n",
    "        delta = list()\n",
    "        for x, y in np.nditer([errors, our_output]):\n",
    "            ans = x * sigmoid_derivative(y)\n",
    "            delta.append(ans)\n",
    "        delta = np.array(delta)\n",
    "        delta_list.append(delta)\n",
    "    delta_list.reverse()\n",
    "    return delta_list"
   ]
  },
  {
   "cell_type": "code",
   "execution_count": 9,
   "id": "9383519e",
   "metadata": {},
   "outputs": [],
   "source": [
    "def update_weights_and_bias(network, delta_list, output, row, l_rate):\n",
    "    j = 0\n",
    "    inputs = row\n",
    "    for i in range(len(network)):\n",
    "        if i%2 == 0:                 #for weights updation\n",
    "            weights = network[i]\n",
    "            weight_change = list()\n",
    "            if j != 0:\n",
    "                inputs = output[j - 1]\n",
    "            delta = delta_list[j]\n",
    "            for x in delta:\n",
    "                t = l_rate * x\n",
    "                temp = list()\n",
    "                for y in inputs:\n",
    "                    ans = t * y\n",
    "                    temp.append(ans)\n",
    "                weight_change.append(temp)\n",
    "            weight_change = np.array(weight_change)\n",
    "            weight_change = weight_change.T\n",
    "            new_weights = np.add(weights, weight_change)\n",
    "            network[i] = new_weights\n",
    "        else:                          #bias updation\n",
    "            bias = network[i]\n",
    "            delta = delta_list[j]\n",
    "            bias_change = list()\n",
    "            for x in delta:\n",
    "                t = x * l_rate\n",
    "                bias_change.append(t)\n",
    "            bias_change = np.array(bias_change)\n",
    "            new_bias = np.add(bias, bias_change)\n",
    "            network[i] = new_bias\n",
    "            j = j + 1\n"
   ]
  },
  {
   "cell_type": "code",
   "execution_count": 10,
   "id": "79e67dfc",
   "metadata": {},
   "outputs": [],
   "source": [
    "# Split a dataset into k folds\n",
    "def cross_validation_split(dataset, n_folds):\n",
    "    dataset_split = list()\n",
    "    dataset_copy = list(dataset)\n",
    "    fold_size = int(len(dataset) / n_folds)\n",
    "    for i in range(n_folds):\n",
    "        fold = list()\n",
    "        while len(fold) < fold_size:\n",
    "            index = randrange(len(dataset_copy))\n",
    "            fold.append(dataset_copy.pop(index))\n",
    "        dataset_split.append(fold)\n",
    "    return dataset_split\n",
    "\n",
    "\n",
    "\n",
    "# Calculate accuracy percentage\n",
    "def accuracy_metric(actual, predicted):\n",
    "    correct = 0\n",
    "    for i in range(len(actual)):\n",
    "        if actual[i] == predicted[i]:\n",
    "            correct += 1\n",
    "    return correct / float(len(actual)) * 100.0\n",
    "\n",
    "def F1_metric(actual, predicted):\n",
    "\n",
    "    tp = tn = fp = fn = 0\n",
    "    for i in range(len(actual)):\n",
    "        if predicted[i] == actual[i]:\n",
    "            if predicted[i] == 1:\n",
    "                tp += 1\n",
    "            else:\n",
    "                tn += 1\n",
    "        else:\n",
    "            if actual[i] == 0:\n",
    "                fp += 1\n",
    "            else:\n",
    "                fn += 1\n",
    "    \n",
    "    precision = float(tp/(tp+fp))\n",
    "    recall = float(tp/(tp+fn))\n",
    "\n",
    "    f1_score = float(2*precision*recall/(precision+recall)) * 100\n",
    "\n",
    "    return f1_score"
   ]
  },
  {
   "cell_type": "code",
   "execution_count": 11,
   "id": "2af585dc",
   "metadata": {},
   "outputs": [],
   "source": [
    " #Train a network for a fixed number of epochs\n",
    "def train_network(network, train, l_rate, n_epoch, n_outputs):\n",
    "    for epoch in range(n_epoch):\n",
    "        for row in train:\n",
    "            output = list()\n",
    "            input_row = row[:len(row)-1]\n",
    "            results = forward_propogation(network, input_row, output)\n",
    "            expected = [0 for i in range(n_outputs)]\n",
    "            expected[0] = row[-1]\n",
    "            delta = backward_propogation(network, output, expected)\n",
    "            update_weights_and_bias(network, delta, output, input_row, l_rate)\n",
    "\n",
    "\n",
    "# Make a prediction with a network\n",
    "def predict(network, row):\n",
    "    results = list()\n",
    "    input_row = row[:len(row)-1]\n",
    "    outputs = forward_propogation(network, input_row, results)\n",
    "    x = outputs[0]\n",
    "    ret_val = round(x)            #Thresholding\n",
    "    return ret_val"
   ]
  },
  {
   "cell_type": "code",
   "execution_count": 12,
   "id": "72eca078",
   "metadata": {},
   "outputs": [],
   "source": [
    "# Backpropagation Algorithm With Stochastic Gradient Descent\n",
    "def algorithm(train, test, num, l_rate, n_epoch, n_hidden):\n",
    "    n_inputs = len(train[0]) - 1\n",
    "    n_outputs = 1\n",
    "    network = initialise_network(n_inputs, 1, n_hidden, n_outputs)\n",
    "    print(f\" Training Started for {num} fold........\")\n",
    "    train_network(network, train, l_rate, n_epoch, n_outputs)\n",
    "    print(f\" Training Completed \")\n",
    "    predictions = list()\n",
    "    predictions = list()\n",
    "    for row in test:\n",
    "        prediction = predict(network, row)\n",
    "        predictions.append(prediction)\n",
    "    return(predictions)"
   ]
  },
  {
   "cell_type": "code",
   "execution_count": 13,
   "id": "8e8d7acf",
   "metadata": {},
   "outputs": [],
   "source": [
    "# Evaluate an algorithm using a cross validation split\n",
    "def evaluate_algorithm(dataset, algorithm, n_folds, *args):\n",
    "    folds = cross_validation_split(dataset, n_folds)\n",
    "    scores = list()\n",
    "    f1_scores = list()\n",
    "    num = 0\n",
    "    for fold in folds:\n",
    "        train_set = list(folds)\n",
    "        train_set.remove(fold)\n",
    "        train_set = sum(train_set, [])\n",
    "        test_set = list()\n",
    "        for row in fold:\n",
    "            row_copy = list(row)\n",
    "            test_set.append(row_copy)\n",
    "            row_copy[-1] = None\n",
    "        num = num + 1\n",
    "        predicted = algorithm(train_set, test_set,num, *args)\n",
    "        actual = [row[-1] for row in fold]\n",
    "        accuracy = accuracy_metric(actual, predicted)\n",
    "        scores.append(accuracy)\n",
    "        f1_score = F1_metric(actual, predicted)\n",
    "        f1_scores.append(f1_score)\n",
    "    return scores, f1_scores"
   ]
  },
  {
   "cell_type": "code",
   "execution_count": 14,
   "id": "6cea7b2d",
   "metadata": {},
   "outputs": [
    {
     "name": "stdout",
     "output_type": "stream",
     "text": [
      " Training Started for 1 fold........\n",
      " Training Completed \n",
      " Training Started for 2 fold........\n",
      " Training Completed \n",
      " Training Started for 3 fold........\n",
      " Training Completed \n",
      " Training Started for 4 fold........\n",
      " Training Completed \n",
      " Training Started for 5 fold........\n",
      " Training Completed \n",
      "--------------- Accuracy Summary-----------------\n",
      "\n",
      "Accuracy Score for 1 fold :: 80.32786885245902\n",
      "Accuracy Score for 2 fold :: 82.5136612021858\n",
      "Accuracy Score for 3 fold :: 75.40983606557377\n",
      "Accuracy Score for 4 fold :: 84.69945355191257\n",
      "Accuracy Score for 5 fold :: 79.23497267759562\n",
      "Mean Accuracy: 80.437%\n",
      "Min Accuracy: 75.410%\n",
      "Max Accuracy: 84.699%\n",
      "\n",
      "--------------------------------------------------\n",
      "\n",
      "--------------- F1 Score Summary-----------------\n",
      "\n",
      "F1 Score for 1 fold :: 80.43478260869564\n",
      "F1 Score for 2 fold :: 83.33333333333333\n",
      "F1 Score for 3 fold :: 79.45205479452055\n",
      "F1 Score for 4 fold :: 86.27450980392156\n",
      "F1 Score for 5 fold :: 81.37254901960785\n",
      "Mean F1 Score: 82.173%\n",
      "Min F1 Score: 79.452%\n",
      "Max F1 Score: 86.275%\n",
      "\n",
      "--------------------------------------------------\n"
     ]
    }
   ],
   "source": [
    "# Test Backprop on Seeds dataset\n",
    "seed(1)\n",
    "# load and prepare data\n",
    "filename = 'heart.csv'\n",
    "\n",
    "dataset = load_csv(filename)\n",
    "\n",
    "for i in range(len(dataset[0])-1):\n",
    "    str_column_to_float(dataset, i)\n",
    "\n",
    "    \n",
    "# convert class column to integers\n",
    "str_column_to_int(dataset, len(dataset[0])-1)\n",
    "\n",
    "# normalize input variables\n",
    "minmax = dataset_minmax(dataset)\n",
    "normalize_dataset(dataset, minmax)\n",
    "\n",
    "\n",
    "# evaluate algorithm\n",
    "n_folds = 5\n",
    "l_rate = 0.3\n",
    "n_epoch = 500\n",
    "n_hidden = 15\n",
    "\n",
    "\n",
    "scores, f1_scores = evaluate_algorithm(dataset, algorithm, n_folds, l_rate, n_epoch, n_hidden)\n",
    "\n",
    "print(\"--------------- Accuracy Summary-----------------\")\n",
    "\n",
    "print()\n",
    "\n",
    "for i in range(len(scores)):\n",
    "    \n",
    "    print(f\"Accuracy Score for {i+1} fold :: {scores[i]}\")\n",
    "\n",
    "print('Mean Accuracy: %.3f%%' % (sum(scores)/float(len(scores))))\n",
    "\n",
    "print('Min Accuracy: %.3f%%' % (min(scores)))\n",
    "\n",
    "print('Max Accuracy: %.3f%%' % (max(scores)))\n",
    "\n",
    "print()\n",
    "\n",
    "print(\"--------------------------------------------------\")\n",
    "\n",
    "print()\n",
    "\n",
    "print(\"--------------- F1 Score Summary-----------------\")\n",
    "\n",
    "print()\n",
    "\n",
    "for i in range(len(f1_scores)):\n",
    "    \n",
    "    print(f\"F1 Score for {i+1} fold :: {f1_scores[i]}\")\n",
    "\n",
    "print('Mean F1 Score: %.3f%%' % (sum(f1_scores)/float(len(f1_scores))))\n",
    "\n",
    "print('Min F1 Score: %.3f%%' % (min(f1_scores)))\n",
    "\n",
    "print('Max F1 Score: %.3f%%' % (max(f1_scores)))\n",
    "\n",
    "print()\n",
    "\n",
    "print(\"--------------------------------------------------\")\n"
   ]
  },
  {
   "cell_type": "code",
   "execution_count": 15,
   "id": "c40f0ba0",
   "metadata": {},
   "outputs": [],
   "source": [
    "import pandas as pd\n",
    "import matplotlib.pyplot as plt\n",
    "%matplotlib inline"
   ]
  },
  {
   "cell_type": "code",
   "execution_count": 16,
   "id": "4ccf1d0f",
   "metadata": {},
   "outputs": [],
   "source": [
    "df = pd.read_csv(\"heart.csv\")"
   ]
  },
  {
   "cell_type": "code",
   "execution_count": 17,
   "id": "f0349995",
   "metadata": {},
   "outputs": [
    {
     "data": {
      "text/html": [
       "<div>\n",
       "<style scoped>\n",
       "    .dataframe tbody tr th:only-of-type {\n",
       "        vertical-align: middle;\n",
       "    }\n",
       "\n",
       "    .dataframe tbody tr th {\n",
       "        vertical-align: top;\n",
       "    }\n",
       "\n",
       "    .dataframe thead th {\n",
       "        text-align: right;\n",
       "    }\n",
       "</style>\n",
       "<table border=\"1\" class=\"dataframe\">\n",
       "  <thead>\n",
       "    <tr style=\"text-align: right;\">\n",
       "      <th></th>\n",
       "      <th>Age</th>\n",
       "      <th>Sex</th>\n",
       "      <th>ChestPainType</th>\n",
       "      <th>RestingBP</th>\n",
       "      <th>Cholesterol</th>\n",
       "      <th>FastingBS</th>\n",
       "      <th>RestingECG</th>\n",
       "      <th>MaxHR</th>\n",
       "      <th>ExerciseAngina</th>\n",
       "      <th>Oldpeak</th>\n",
       "      <th>ST_Slope</th>\n",
       "      <th>HeartDisease</th>\n",
       "    </tr>\n",
       "  </thead>\n",
       "  <tbody>\n",
       "    <tr>\n",
       "      <th>0</th>\n",
       "      <td>40</td>\n",
       "      <td>M</td>\n",
       "      <td>ATA</td>\n",
       "      <td>140</td>\n",
       "      <td>289</td>\n",
       "      <td>0</td>\n",
       "      <td>Normal</td>\n",
       "      <td>172</td>\n",
       "      <td>N</td>\n",
       "      <td>0.0</td>\n",
       "      <td>Up</td>\n",
       "      <td>0</td>\n",
       "    </tr>\n",
       "    <tr>\n",
       "      <th>1</th>\n",
       "      <td>49</td>\n",
       "      <td>F</td>\n",
       "      <td>NAP</td>\n",
       "      <td>160</td>\n",
       "      <td>180</td>\n",
       "      <td>0</td>\n",
       "      <td>Normal</td>\n",
       "      <td>156</td>\n",
       "      <td>N</td>\n",
       "      <td>1.0</td>\n",
       "      <td>Flat</td>\n",
       "      <td>1</td>\n",
       "    </tr>\n",
       "    <tr>\n",
       "      <th>2</th>\n",
       "      <td>37</td>\n",
       "      <td>M</td>\n",
       "      <td>ATA</td>\n",
       "      <td>130</td>\n",
       "      <td>283</td>\n",
       "      <td>0</td>\n",
       "      <td>ST</td>\n",
       "      <td>98</td>\n",
       "      <td>N</td>\n",
       "      <td>0.0</td>\n",
       "      <td>Up</td>\n",
       "      <td>0</td>\n",
       "    </tr>\n",
       "    <tr>\n",
       "      <th>3</th>\n",
       "      <td>48</td>\n",
       "      <td>F</td>\n",
       "      <td>ASY</td>\n",
       "      <td>138</td>\n",
       "      <td>214</td>\n",
       "      <td>0</td>\n",
       "      <td>Normal</td>\n",
       "      <td>108</td>\n",
       "      <td>Y</td>\n",
       "      <td>1.5</td>\n",
       "      <td>Flat</td>\n",
       "      <td>1</td>\n",
       "    </tr>\n",
       "    <tr>\n",
       "      <th>4</th>\n",
       "      <td>54</td>\n",
       "      <td>M</td>\n",
       "      <td>NAP</td>\n",
       "      <td>150</td>\n",
       "      <td>195</td>\n",
       "      <td>0</td>\n",
       "      <td>Normal</td>\n",
       "      <td>122</td>\n",
       "      <td>N</td>\n",
       "      <td>0.0</td>\n",
       "      <td>Up</td>\n",
       "      <td>0</td>\n",
       "    </tr>\n",
       "  </tbody>\n",
       "</table>\n",
       "</div>"
      ],
      "text/plain": [
       "   Age Sex ChestPainType  RestingBP  Cholesterol  FastingBS RestingECG  MaxHR  \\\n",
       "0   40   M           ATA        140          289          0     Normal    172   \n",
       "1   49   F           NAP        160          180          0     Normal    156   \n",
       "2   37   M           ATA        130          283          0         ST     98   \n",
       "3   48   F           ASY        138          214          0     Normal    108   \n",
       "4   54   M           NAP        150          195          0     Normal    122   \n",
       "\n",
       "  ExerciseAngina  Oldpeak ST_Slope  HeartDisease  \n",
       "0              N      0.0       Up             0  \n",
       "1              N      1.0     Flat             1  \n",
       "2              N      0.0       Up             0  \n",
       "3              Y      1.5     Flat             1  \n",
       "4              N      0.0       Up             0  "
      ]
     },
     "execution_count": 17,
     "metadata": {},
     "output_type": "execute_result"
    }
   ],
   "source": [
    "df.head()"
   ]
  },
  {
   "cell_type": "code",
   "execution_count": 18,
   "id": "697c140e",
   "metadata": {},
   "outputs": [],
   "source": [
    "df.drop(['ChestPainType','RestingECG','ST_Slope'],inplace=True,axis=1)"
   ]
  },
  {
   "cell_type": "code",
   "execution_count": 19,
   "id": "d73c24ec",
   "metadata": {},
   "outputs": [
    {
     "data": {
      "text/html": [
       "<div>\n",
       "<style scoped>\n",
       "    .dataframe tbody tr th:only-of-type {\n",
       "        vertical-align: middle;\n",
       "    }\n",
       "\n",
       "    .dataframe tbody tr th {\n",
       "        vertical-align: top;\n",
       "    }\n",
       "\n",
       "    .dataframe thead th {\n",
       "        text-align: right;\n",
       "    }\n",
       "</style>\n",
       "<table border=\"1\" class=\"dataframe\">\n",
       "  <thead>\n",
       "    <tr style=\"text-align: right;\">\n",
       "      <th></th>\n",
       "      <th>Age</th>\n",
       "      <th>Sex</th>\n",
       "      <th>RestingBP</th>\n",
       "      <th>Cholesterol</th>\n",
       "      <th>FastingBS</th>\n",
       "      <th>MaxHR</th>\n",
       "      <th>ExerciseAngina</th>\n",
       "      <th>Oldpeak</th>\n",
       "      <th>HeartDisease</th>\n",
       "    </tr>\n",
       "  </thead>\n",
       "  <tbody>\n",
       "    <tr>\n",
       "      <th>0</th>\n",
       "      <td>40</td>\n",
       "      <td>M</td>\n",
       "      <td>140</td>\n",
       "      <td>289</td>\n",
       "      <td>0</td>\n",
       "      <td>172</td>\n",
       "      <td>N</td>\n",
       "      <td>0.0</td>\n",
       "      <td>0</td>\n",
       "    </tr>\n",
       "    <tr>\n",
       "      <th>1</th>\n",
       "      <td>49</td>\n",
       "      <td>F</td>\n",
       "      <td>160</td>\n",
       "      <td>180</td>\n",
       "      <td>0</td>\n",
       "      <td>156</td>\n",
       "      <td>N</td>\n",
       "      <td>1.0</td>\n",
       "      <td>1</td>\n",
       "    </tr>\n",
       "    <tr>\n",
       "      <th>2</th>\n",
       "      <td>37</td>\n",
       "      <td>M</td>\n",
       "      <td>130</td>\n",
       "      <td>283</td>\n",
       "      <td>0</td>\n",
       "      <td>98</td>\n",
       "      <td>N</td>\n",
       "      <td>0.0</td>\n",
       "      <td>0</td>\n",
       "    </tr>\n",
       "    <tr>\n",
       "      <th>3</th>\n",
       "      <td>48</td>\n",
       "      <td>F</td>\n",
       "      <td>138</td>\n",
       "      <td>214</td>\n",
       "      <td>0</td>\n",
       "      <td>108</td>\n",
       "      <td>Y</td>\n",
       "      <td>1.5</td>\n",
       "      <td>1</td>\n",
       "    </tr>\n",
       "    <tr>\n",
       "      <th>4</th>\n",
       "      <td>54</td>\n",
       "      <td>M</td>\n",
       "      <td>150</td>\n",
       "      <td>195</td>\n",
       "      <td>0</td>\n",
       "      <td>122</td>\n",
       "      <td>N</td>\n",
       "      <td>0.0</td>\n",
       "      <td>0</td>\n",
       "    </tr>\n",
       "  </tbody>\n",
       "</table>\n",
       "</div>"
      ],
      "text/plain": [
       "   Age Sex  RestingBP  Cholesterol  FastingBS  MaxHR ExerciseAngina  Oldpeak  \\\n",
       "0   40   M        140          289          0    172              N      0.0   \n",
       "1   49   F        160          180          0    156              N      1.0   \n",
       "2   37   M        130          283          0     98              N      0.0   \n",
       "3   48   F        138          214          0    108              Y      1.5   \n",
       "4   54   M        150          195          0    122              N      0.0   \n",
       "\n",
       "   HeartDisease  \n",
       "0             0  \n",
       "1             1  \n",
       "2             0  \n",
       "3             1  \n",
       "4             0  "
      ]
     },
     "execution_count": 19,
     "metadata": {},
     "output_type": "execute_result"
    }
   ],
   "source": [
    "df.head()"
   ]
  },
  {
   "cell_type": "code",
   "execution_count": 20,
   "id": "af21e868",
   "metadata": {},
   "outputs": [],
   "source": [
    "temp = {\"M\" : 0 , \"F\" : 1}\n",
    "df['Sex'] = df['Sex'].map(temp)"
   ]
  },
  {
   "cell_type": "code",
   "execution_count": 21,
   "id": "66a83753",
   "metadata": {},
   "outputs": [],
   "source": [
    "temp = {\"N\" : 0 , \"Y\" : 1}\n",
    "df['ExerciseAngina'] = df['ExerciseAngina'].map(temp)"
   ]
  },
  {
   "cell_type": "code",
   "execution_count": 22,
   "id": "6c3a53f7",
   "metadata": {},
   "outputs": [
    {
     "name": "stdout",
     "output_type": "stream",
     "text": [
      "<class 'pandas.core.frame.DataFrame'>\n",
      "RangeIndex: 918 entries, 0 to 917\n",
      "Data columns (total 9 columns):\n",
      " #   Column          Non-Null Count  Dtype  \n",
      "---  ------          --------------  -----  \n",
      " 0   Age             918 non-null    int64  \n",
      " 1   Sex             918 non-null    int64  \n",
      " 2   RestingBP       918 non-null    int64  \n",
      " 3   Cholesterol     918 non-null    int64  \n",
      " 4   FastingBS       918 non-null    int64  \n",
      " 5   MaxHR           918 non-null    int64  \n",
      " 6   ExerciseAngina  918 non-null    int64  \n",
      " 7   Oldpeak         918 non-null    float64\n",
      " 8   HeartDisease    918 non-null    int64  \n",
      "dtypes: float64(1), int64(8)\n",
      "memory usage: 64.7 KB\n"
     ]
    }
   ],
   "source": [
    "df.info()"
   ]
  },
  {
   "cell_type": "code",
   "execution_count": 23,
   "id": "a82770c9",
   "metadata": {},
   "outputs": [
    {
     "data": {
      "text/plain": [
       "Age               0\n",
       "Sex               0\n",
       "RestingBP         0\n",
       "Cholesterol       0\n",
       "FastingBS         0\n",
       "MaxHR             0\n",
       "ExerciseAngina    0\n",
       "Oldpeak           0\n",
       "HeartDisease      0\n",
       "dtype: int64"
      ]
     },
     "execution_count": 23,
     "metadata": {},
     "output_type": "execute_result"
    }
   ],
   "source": [
    "df.isnull().sum()"
   ]
  },
  {
   "cell_type": "code",
   "execution_count": 24,
   "id": "e10ea4b5",
   "metadata": {},
   "outputs": [],
   "source": [
    "from sklearn.model_selection import train_test_split"
   ]
  },
  {
   "cell_type": "code",
   "execution_count": 25,
   "id": "99494bdc",
   "metadata": {},
   "outputs": [],
   "source": [
    "Y = df['HeartDisease']"
   ]
  },
  {
   "cell_type": "code",
   "execution_count": 26,
   "id": "a0834c00",
   "metadata": {},
   "outputs": [
    {
     "data": {
      "text/plain": [
       "pandas.core.series.Series"
      ]
     },
     "execution_count": 26,
     "metadata": {},
     "output_type": "execute_result"
    }
   ],
   "source": [
    "type(Y)"
   ]
  },
  {
   "cell_type": "code",
   "execution_count": 27,
   "id": "deec0e99",
   "metadata": {},
   "outputs": [],
   "source": [
    "df.drop('HeartDisease', axis=1,inplace = True)"
   ]
  },
  {
   "cell_type": "code",
   "execution_count": 28,
   "id": "ea37b3bc",
   "metadata": {},
   "outputs": [],
   "source": [
    "Y = np.int64(Y)"
   ]
  },
  {
   "cell_type": "code",
   "execution_count": 29,
   "id": "8955b0f2",
   "metadata": {},
   "outputs": [],
   "source": [
    "X = df"
   ]
  },
  {
   "cell_type": "code",
   "execution_count": 30,
   "id": "b9990d90",
   "metadata": {},
   "outputs": [],
   "source": [
    "X_train , X_test , y_train , y_test = train_test_split(X , Y ,test_size= 0.3 , random_state=42)"
   ]
  },
  {
   "cell_type": "code",
   "execution_count": 31,
   "id": "bd94a76f",
   "metadata": {},
   "outputs": [
    {
     "data": {
      "text/html": [
       "<div>\n",
       "<style scoped>\n",
       "    .dataframe tbody tr th:only-of-type {\n",
       "        vertical-align: middle;\n",
       "    }\n",
       "\n",
       "    .dataframe tbody tr th {\n",
       "        vertical-align: top;\n",
       "    }\n",
       "\n",
       "    .dataframe thead th {\n",
       "        text-align: right;\n",
       "    }\n",
       "</style>\n",
       "<table border=\"1\" class=\"dataframe\">\n",
       "  <thead>\n",
       "    <tr style=\"text-align: right;\">\n",
       "      <th></th>\n",
       "      <th>Age</th>\n",
       "      <th>Sex</th>\n",
       "      <th>RestingBP</th>\n",
       "      <th>Cholesterol</th>\n",
       "      <th>FastingBS</th>\n",
       "      <th>MaxHR</th>\n",
       "      <th>ExerciseAngina</th>\n",
       "      <th>Oldpeak</th>\n",
       "    </tr>\n",
       "  </thead>\n",
       "  <tbody>\n",
       "    <tr>\n",
       "      <th>712</th>\n",
       "      <td>58</td>\n",
       "      <td>0</td>\n",
       "      <td>100</td>\n",
       "      <td>234</td>\n",
       "      <td>0</td>\n",
       "      <td>156</td>\n",
       "      <td>0</td>\n",
       "      <td>0.1</td>\n",
       "    </tr>\n",
       "    <tr>\n",
       "      <th>477</th>\n",
       "      <td>61</td>\n",
       "      <td>0</td>\n",
       "      <td>110</td>\n",
       "      <td>0</td>\n",
       "      <td>1</td>\n",
       "      <td>108</td>\n",
       "      <td>1</td>\n",
       "      <td>2.0</td>\n",
       "    </tr>\n",
       "    <tr>\n",
       "      <th>409</th>\n",
       "      <td>53</td>\n",
       "      <td>0</td>\n",
       "      <td>160</td>\n",
       "      <td>0</td>\n",
       "      <td>1</td>\n",
       "      <td>122</td>\n",
       "      <td>1</td>\n",
       "      <td>0.0</td>\n",
       "    </tr>\n",
       "    <tr>\n",
       "      <th>448</th>\n",
       "      <td>63</td>\n",
       "      <td>0</td>\n",
       "      <td>160</td>\n",
       "      <td>230</td>\n",
       "      <td>1</td>\n",
       "      <td>105</td>\n",
       "      <td>1</td>\n",
       "      <td>1.0</td>\n",
       "    </tr>\n",
       "    <tr>\n",
       "      <th>838</th>\n",
       "      <td>63</td>\n",
       "      <td>0</td>\n",
       "      <td>130</td>\n",
       "      <td>330</td>\n",
       "      <td>1</td>\n",
       "      <td>132</td>\n",
       "      <td>1</td>\n",
       "      <td>1.8</td>\n",
       "    </tr>\n",
       "    <tr>\n",
       "      <th>...</th>\n",
       "      <td>...</td>\n",
       "      <td>...</td>\n",
       "      <td>...</td>\n",
       "      <td>...</td>\n",
       "      <td>...</td>\n",
       "      <td>...</td>\n",
       "      <td>...</td>\n",
       "      <td>...</td>\n",
       "    </tr>\n",
       "    <tr>\n",
       "      <th>106</th>\n",
       "      <td>48</td>\n",
       "      <td>1</td>\n",
       "      <td>120</td>\n",
       "      <td>254</td>\n",
       "      <td>0</td>\n",
       "      <td>110</td>\n",
       "      <td>0</td>\n",
       "      <td>0.0</td>\n",
       "    </tr>\n",
       "    <tr>\n",
       "      <th>270</th>\n",
       "      <td>45</td>\n",
       "      <td>0</td>\n",
       "      <td>120</td>\n",
       "      <td>225</td>\n",
       "      <td>0</td>\n",
       "      <td>140</td>\n",
       "      <td>0</td>\n",
       "      <td>0.0</td>\n",
       "    </tr>\n",
       "    <tr>\n",
       "      <th>860</th>\n",
       "      <td>60</td>\n",
       "      <td>0</td>\n",
       "      <td>130</td>\n",
       "      <td>253</td>\n",
       "      <td>0</td>\n",
       "      <td>144</td>\n",
       "      <td>1</td>\n",
       "      <td>1.4</td>\n",
       "    </tr>\n",
       "    <tr>\n",
       "      <th>435</th>\n",
       "      <td>60</td>\n",
       "      <td>0</td>\n",
       "      <td>152</td>\n",
       "      <td>0</td>\n",
       "      <td>0</td>\n",
       "      <td>118</td>\n",
       "      <td>1</td>\n",
       "      <td>0.0</td>\n",
       "    </tr>\n",
       "    <tr>\n",
       "      <th>102</th>\n",
       "      <td>40</td>\n",
       "      <td>1</td>\n",
       "      <td>150</td>\n",
       "      <td>392</td>\n",
       "      <td>0</td>\n",
       "      <td>130</td>\n",
       "      <td>0</td>\n",
       "      <td>2.0</td>\n",
       "    </tr>\n",
       "  </tbody>\n",
       "</table>\n",
       "<p>642 rows × 8 columns</p>\n",
       "</div>"
      ],
      "text/plain": [
       "     Age  Sex  RestingBP  Cholesterol  FastingBS  MaxHR  ExerciseAngina  \\\n",
       "712   58    0        100          234          0    156               0   \n",
       "477   61    0        110            0          1    108               1   \n",
       "409   53    0        160            0          1    122               1   \n",
       "448   63    0        160          230          1    105               1   \n",
       "838   63    0        130          330          1    132               1   \n",
       "..   ...  ...        ...          ...        ...    ...             ...   \n",
       "106   48    1        120          254          0    110               0   \n",
       "270   45    0        120          225          0    140               0   \n",
       "860   60    0        130          253          0    144               1   \n",
       "435   60    0        152            0          0    118               1   \n",
       "102   40    1        150          392          0    130               0   \n",
       "\n",
       "     Oldpeak  \n",
       "712      0.1  \n",
       "477      2.0  \n",
       "409      0.0  \n",
       "448      1.0  \n",
       "838      1.8  \n",
       "..       ...  \n",
       "106      0.0  \n",
       "270      0.0  \n",
       "860      1.4  \n",
       "435      0.0  \n",
       "102      2.0  \n",
       "\n",
       "[642 rows x 8 columns]"
      ]
     },
     "execution_count": 31,
     "metadata": {},
     "output_type": "execute_result"
    }
   ],
   "source": [
    "X_train"
   ]
  },
  {
   "cell_type": "code",
   "execution_count": 32,
   "id": "e5a1ae48",
   "metadata": {},
   "outputs": [],
   "source": [
    "#KNN Algorithm:\n",
    "from sklearn.neighbors import KNeighborsClassifier"
   ]
  },
  {
   "cell_type": "code",
   "execution_count": 33,
   "id": "941b9cbf",
   "metadata": {},
   "outputs": [],
   "source": [
    "knn = KNeighborsClassifier(n_neighbors=5)"
   ]
  },
  {
   "cell_type": "code",
   "execution_count": 34,
   "id": "f24cb867",
   "metadata": {},
   "outputs": [
    {
     "data": {
      "text/plain": [
       "KNeighborsClassifier()"
      ]
     },
     "execution_count": 34,
     "metadata": {},
     "output_type": "execute_result"
    }
   ],
   "source": [
    "knn.fit(X_train,y_train)"
   ]
  },
  {
   "cell_type": "code",
   "execution_count": 35,
   "id": "08b42c7c",
   "metadata": {},
   "outputs": [],
   "source": [
    "pred = knn.predict(X_test)"
   ]
  },
  {
   "cell_type": "code",
   "execution_count": 36,
   "id": "dfe8055a",
   "metadata": {},
   "outputs": [],
   "source": [
    "from sklearn.metrics import classification_report,confusion_matrix,log_loss"
   ]
  },
  {
   "cell_type": "code",
   "execution_count": 37,
   "id": "536ef3fe",
   "metadata": {},
   "outputs": [
    {
     "name": "stdout",
     "output_type": "stream",
     "text": [
      "[[ 76  36]\n",
      " [ 42 122]]\n"
     ]
    }
   ],
   "source": [
    "print(confusion_matrix(y_test,pred))"
   ]
  },
  {
   "cell_type": "code",
   "execution_count": 38,
   "id": "53edfdb2",
   "metadata": {},
   "outputs": [
    {
     "name": "stdout",
     "output_type": "stream",
     "text": [
      "              precision    recall  f1-score   support\n",
      "\n",
      "           0       0.64      0.68      0.66       112\n",
      "           1       0.77      0.74      0.76       164\n",
      "\n",
      "    accuracy                           0.72       276\n",
      "   macro avg       0.71      0.71      0.71       276\n",
      "weighted avg       0.72      0.72      0.72       276\n",
      "\n"
     ]
    }
   ],
   "source": [
    "print(classification_report(y_test,pred))"
   ]
  },
  {
   "cell_type": "code",
   "execution_count": 39,
   "id": "0b98aebc",
   "metadata": {},
   "outputs": [],
   "source": [
    "error_rate = []\n",
    "\n",
    "for i in range(2,15):\n",
    "    knn = KNeighborsClassifier(n_neighbors=i)\n",
    "    knn.fit(X_train,y_train)\n",
    "    pred_i = knn.predict(X_test)\n",
    "    error_rate.append(np.mean(pred_i != y_test))"
   ]
  },
  {
   "cell_type": "code",
   "execution_count": 40,
   "id": "0bc0feea",
   "metadata": {},
   "outputs": [
    {
     "data": {
      "text/plain": [
       "Text(0, 0.5, 'Error Rate')"
      ]
     },
     "execution_count": 40,
     "metadata": {},
     "output_type": "execute_result"
    },
    {
     "data": {
      "image/png": "[encoded data removed]",
      "text/plain": [
       "<Figure size 720x432 with 1 Axes>"
      ]
     },
     "metadata": {
      "needs_background": "light"
     },
     "output_type": "display_data"
    }
   ],
   "source": [
    "plt.figure(figsize=(10,6))\n",
    "plt.plot(range(2,15),error_rate,color='blue', linestyle='dashed', marker='o',\n",
    "         markerfacecolor='red', markersize=10)\n",
    "plt.title('Error Rate vs. K Value')\n",
    "plt.xlabel('K')\n",
    "plt.ylabel('Error Rate')"
   ]
  },
  {
   "cell_type": "code",
   "execution_count": 41,
   "id": "c095a3a3",
   "metadata": {},
   "outputs": [],
   "source": [
    "#Decision tree"
   ]
  },
  {
   "cell_type": "code",
   "execution_count": 42,
   "id": "92567726",
   "metadata": {},
   "outputs": [
    {
     "data": {
      "text/html": [
       "<div>\n",
       "<style scoped>\n",
       "    .dataframe tbody tr th:only-of-type {\n",
       "        vertical-align: middle;\n",
       "    }\n",
       "\n",
       "    .dataframe tbody tr th {\n",
       "        vertical-align: top;\n",
       "    }\n",
       "\n",
       "    .dataframe thead th {\n",
       "        text-align: right;\n",
       "    }\n",
       "</style>\n",
       "<table border=\"1\" class=\"dataframe\">\n",
       "  <thead>\n",
       "    <tr style=\"text-align: right;\">\n",
       "      <th></th>\n",
       "      <th>Age</th>\n",
       "      <th>Sex</th>\n",
       "      <th>RestingBP</th>\n",
       "      <th>Cholesterol</th>\n",
       "      <th>FastingBS</th>\n",
       "      <th>MaxHR</th>\n",
       "      <th>ExerciseAngina</th>\n",
       "      <th>Oldpeak</th>\n",
       "    </tr>\n",
       "  </thead>\n",
       "  <tbody>\n",
       "    <tr>\n",
       "      <th>0</th>\n",
       "      <td>40</td>\n",
       "      <td>0</td>\n",
       "      <td>140</td>\n",
       "      <td>289</td>\n",
       "      <td>0</td>\n",
       "      <td>172</td>\n",
       "      <td>0</td>\n",
       "      <td>0.0</td>\n",
       "    </tr>\n",
       "    <tr>\n",
       "      <th>1</th>\n",
       "      <td>49</td>\n",
       "      <td>1</td>\n",
       "      <td>160</td>\n",
       "      <td>180</td>\n",
       "      <td>0</td>\n",
       "      <td>156</td>\n",
       "      <td>0</td>\n",
       "      <td>1.0</td>\n",
       "    </tr>\n",
       "    <tr>\n",
       "      <th>2</th>\n",
       "      <td>37</td>\n",
       "      <td>0</td>\n",
       "      <td>130</td>\n",
       "      <td>283</td>\n",
       "      <td>0</td>\n",
       "      <td>98</td>\n",
       "      <td>0</td>\n",
       "      <td>0.0</td>\n",
       "    </tr>\n",
       "    <tr>\n",
       "      <th>3</th>\n",
       "      <td>48</td>\n",
       "      <td>1</td>\n",
       "      <td>138</td>\n",
       "      <td>214</td>\n",
       "      <td>0</td>\n",
       "      <td>108</td>\n",
       "      <td>1</td>\n",
       "      <td>1.5</td>\n",
       "    </tr>\n",
       "    <tr>\n",
       "      <th>4</th>\n",
       "      <td>54</td>\n",
       "      <td>0</td>\n",
       "      <td>150</td>\n",
       "      <td>195</td>\n",
       "      <td>0</td>\n",
       "      <td>122</td>\n",
       "      <td>0</td>\n",
       "      <td>0.0</td>\n",
       "    </tr>\n",
       "  </tbody>\n",
       "</table>\n",
       "</div>"
      ],
      "text/plain": [
       "   Age  Sex  RestingBP  Cholesterol  FastingBS  MaxHR  ExerciseAngina  Oldpeak\n",
       "0   40    0        140          289          0    172               0      0.0\n",
       "1   49    1        160          180          0    156               0      1.0\n",
       "2   37    0        130          283          0     98               0      0.0\n",
       "3   48    1        138          214          0    108               1      1.5\n",
       "4   54    0        150          195          0    122               0      0.0"
      ]
     },
     "execution_count": 42,
     "metadata": {},
     "output_type": "execute_result"
    }
   ],
   "source": [
    "df.head()"
   ]
  },
  {
   "cell_type": "code",
   "execution_count": 43,
   "id": "5a9cef99",
   "metadata": {},
   "outputs": [],
   "source": [
    "from sklearn.tree import DecisionTreeClassifier"
   ]
  },
  {
   "cell_type": "code",
   "execution_count": 44,
   "id": "48aa747e",
   "metadata": {},
   "outputs": [],
   "source": [
    "dtc = DecisionTreeClassifier()"
   ]
  },
  {
   "cell_type": "code",
   "execution_count": 45,
   "id": "a75168d7",
   "metadata": {},
   "outputs": [
    {
     "data": {
      "text/plain": [
       "DecisionTreeClassifier()"
      ]
     },
     "execution_count": 45,
     "metadata": {},
     "output_type": "execute_result"
    }
   ],
   "source": [
    "dtc.fit(X_train , y_train)"
   ]
  },
  {
   "cell_type": "code",
   "execution_count": 46,
   "id": "e7f12685",
   "metadata": {},
   "outputs": [],
   "source": [
    "pred_dtc = dtc.predict(X_test)"
   ]
  },
  {
   "cell_type": "code",
   "execution_count": 47,
   "id": "a32454a7",
   "metadata": {},
   "outputs": [],
   "source": [
    "from sklearn.metrics import classification_report, confusion_matrix"
   ]
  },
  {
   "cell_type": "code",
   "execution_count": 48,
   "id": "c17d9ced",
   "metadata": {},
   "outputs": [
    {
     "name": "stdout",
     "output_type": "stream",
     "text": [
      "              precision    recall  f1-score   support\n",
      "\n",
      "           0       0.62      0.68      0.65       112\n",
      "           1       0.77      0.72      0.74       164\n",
      "\n",
      "    accuracy                           0.70       276\n",
      "   macro avg       0.69      0.70      0.70       276\n",
      "weighted avg       0.71      0.70      0.70       276\n",
      "\n"
     ]
    }
   ],
   "source": [
    "print(classification_report(y_test , pred_dtc))"
   ]
  },
  {
   "cell_type": "code",
   "execution_count": 49,
   "id": "d6e89f8f",
   "metadata": {},
   "outputs": [
    {
     "name": "stdout",
     "output_type": "stream",
     "text": [
      "[[ 76  36]\n",
      " [ 46 118]]\n"
     ]
    }
   ],
   "source": [
    "print(confusion_matrix(y_test , pred_dtc))"
   ]
  },
  {
   "cell_type": "code",
   "execution_count": 50,
   "id": "f8a2ee05",
   "metadata": {},
   "outputs": [],
   "source": [
    "#implement SVm"
   ]
  },
  {
   "cell_type": "code",
   "execution_count": 51,
   "id": "f1dab513",
   "metadata": {},
   "outputs": [],
   "source": [
    "from sklearn.svm import SVC"
   ]
  },
  {
   "cell_type": "code",
   "execution_count": 52,
   "id": "26ed0be3",
   "metadata": {},
   "outputs": [],
   "source": [
    "m_svm = SVC(kernel = 'linear')"
   ]
  },
  {
   "cell_type": "code",
   "execution_count": 53,
   "id": "6554065b",
   "metadata": {},
   "outputs": [
    {
     "data": {
      "text/plain": [
       "SVC(kernel='linear')"
      ]
     },
     "execution_count": 53,
     "metadata": {},
     "output_type": "execute_result"
    }
   ],
   "source": [
    "m_svm.fit(X_train , y_train)"
   ]
  },
  {
   "cell_type": "code",
   "execution_count": 54,
   "id": "d9684059",
   "metadata": {},
   "outputs": [],
   "source": [
    "pred_svm = m_svm.predict(X_test)"
   ]
  },
  {
   "cell_type": "code",
   "execution_count": 55,
   "id": "dcba5cfa",
   "metadata": {},
   "outputs": [
    {
     "name": "stdout",
     "output_type": "stream",
     "text": [
      "              precision    recall  f1-score   support\n",
      "\n",
      "           0       0.74      0.83      0.78       112\n",
      "           1       0.87      0.80      0.84       164\n",
      "\n",
      "    accuracy                           0.82       276\n",
      "   macro avg       0.81      0.82      0.81       276\n",
      "weighted avg       0.82      0.82      0.82       276\n",
      "\n"
     ]
    }
   ],
   "source": [
    "print(classification_report(y_test , pred_svm))"
   ]
  },
  {
   "cell_type": "code",
   "execution_count": 56,
   "id": "1ca1889b",
   "metadata": {},
   "outputs": [
    {
     "name": "stdout",
     "output_type": "stream",
     "text": [
      "[[ 93  19]\n",
      " [ 32 132]]\n"
     ]
    }
   ],
   "source": [
    "print(confusion_matrix(y_test , pred_svm))"
   ]
  },
  {
   "cell_type": "code",
   "execution_count": null,
   "id": "3fcf0d5f",
   "metadata": {},
   "outputs": [],
   "source": []
  }
 ],
 "metadata": {
  "kernelspec": {
   "display_name": "Python 3 (ipykernel)",
   "language": "python",
   "name": "python3"
  },
  "language_info": {
   "codemirror_mode": {
    "name": "ipython",
    "version": 3
   },
   "file_extension": ".py",
   "mimetype": "text/x-python",
   "name": "python",
   "nbconvert_exporter": "python",
   "pygments_lexer": "ipython3",
   "version": "3.7.9"
  }
 },
 "nbformat": 4,
 "nbformat_minor": 5
}
